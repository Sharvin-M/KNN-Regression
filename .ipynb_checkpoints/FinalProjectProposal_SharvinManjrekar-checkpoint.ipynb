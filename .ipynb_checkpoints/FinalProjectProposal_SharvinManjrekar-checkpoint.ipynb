{
 "cells": [
  {
   "cell_type": "raw",
   "id": "d62844f2-95ef-47c4-b40d-da5880947a1a",
   "metadata": {},
   "source": []
  },
  {
   "cell_type": "code",
   "execution_count": 64,
   "id": "c0db889c-0058-4f76-a76a-70d4367b27c3",
   "metadata": {},
   "outputs": [
    {
     "name": "stdout",
     "output_type": "stream",
     "text": [
      "Question 1: 164\n",
      "Question 6: 164\n",
      "Question 9: 164\n",
      "Question 2: 176\n",
      "Question 4: 176\n",
      "Question 7: 176\n",
      "Question 3: 190\n",
      "Question 5: 190\n",
      "Question 8: 190\n"
     ]
    }
   ],
   "source": [
    "import pandas as pd \n",
    "# Student Name: Sharvin Manjrekar Student ID: 1986394\n",
    "\n",
    "# create dataframe with csv file \n",
    "\n",
    "StudentsPerformance = pd.read_csv(r\"/Users/shaileshmanjrekar/Downloads/StudentsPerformance.csv\") # there is no need to clean up the file as there are no missing values in the dataset\n",
    "\n",
    "\n",
    "\n",
    "# create a data series with all students who scored above 82 in writing \n",
    "HighWritingScore = StudentsPerformance[StudentsPerformance['writing score'] > 82]\n",
    "\n",
    "# create a data series with all students who scored above 80 in math\n",
    "HighMathScore = StudentsPerformance[StudentsPerformance['math score'] > 80]\n",
    "\n",
    "# create a data series with all students who scored above 83 in reading\n",
    "HighReadingScore = StudentsPerformance[StudentsPerformance['reading score'] > 82]\n",
    "\n",
    "# answer questions 1, 6, 9 (writing score questions)\n",
    "\n",
    "Question1Answers = HighWritingScore[pd.get_dummies(HighWritingScore['parental level of education']) == 0] # turn the categorical variables in quantative ones \n",
    "print(\"Question 1:\", len(Question1Answers.index)) # prints number of rows aka how many people with high writing scores had free/reduced lunch\n",
    "\n",
    "Question6Answers = HighWritingScore[pd.get_dummies(HighWritingScore['test preparation course']) == 1] # turn the categorical variables in quantative ones \n",
    "print(\"Question 6:\" , len(Question6Answers.index))\n",
    "\n",
    "Question9Answers = HighWritingScore[pd.get_dummies(HighWritingScore['lunch']) == 1] # turn the categorical variables in quantative ones \n",
    "print(\"Question 9:\" , len(Question9Answers.index))\n",
    "\n",
    "# answer questions 2, 4, 7 (math score questions)\n",
    "\n",
    "Question2Answers = HighMathScore[pd.get_dummies(HighWritingScore['parental level of education']) == 0] # turn the categorical variables in quantative ones \n",
    "print(\"Question 2:\", len(Question2Answers.index))\n",
    "\n",
    "Question4Answers = HighMathScore[pd.get_dummies(HighWritingScore['test preparation course']) == 1] # turn the categorical variables in quantative ones \n",
    "print(\"Question 4:\", len(Question4Answers.index))\n",
    "\n",
    "Question7Answers = HighMathScore[pd.get_dummies(HighWritingScore['lunch']) == 0] # turn the categorical variables in quantative ones \n",
    "print(\"Question 7:\", len(Question7Answers.index))\n",
    "\n",
    "# answer questions 3, 5, 8 (reading score questions)\n",
    "\n",
    "Question3Answers = HighReadingScore[pd.get_dummies(HighReadingScore['parental level of education']) == 0] # turn the categorical variables in quantative ones \n",
    "print(\"Question 3:\", len(Question3Answers.index))\n",
    "\n",
    "Question5Answers = HighReadingScore[pd.get_dummies(HighReadingScore['test preparation course']) == 0] # turn the categorical variables in quantative ones \n",
    "print(\"Question 5:\", len(Question5Answers.index))\n",
    "\n",
    "Question8Answers = HighReadingScore[pd.get_dummies(HighReadingScore['lunch']) == 0] # turn the categorical variables in quantative ones \n",
    "print(\"Question 8:\", len(Question8Answers.index))\n",
    "\n",
    "# this is most likley not the optimal way to solve these questions, however these are the solutions I came up with. \n",
    "# In summary, I made new datasets for 3 different groups based on high scores for each of the 3 parts of the exam \n",
    "# I then created a new dataset using those 3 that utilized one-hot encoding to narrow down the groups to answer each specefic question \n"
   ]
  },
  {
   "cell_type": "code",
   "execution_count": null,
   "id": "ecbb60fa-bb2c-4740-bcfc-dbeb1248b30f",
   "metadata": {},
   "outputs": [],
   "source": []
  },
  {
   "cell_type": "code",
   "execution_count": 70,
   "id": "a2b1424f-4746-437a-867b-6af04fb40e2d",
   "metadata": {},
   "outputs": [
    {
     "name": "stdout",
     "output_type": "stream",
     "text": [
      "<bound method Series.unique of 0      group B\n",
      "1      group C\n",
      "2      group B\n",
      "3      group A\n",
      "4      group C\n",
      "        ...   \n",
      "995    group E\n",
      "996    group C\n",
      "997    group C\n",
      "998    group D\n",
      "999    group D\n",
      "Name: race/ethnicity, Length: 1000, dtype: object>\n"
     ]
    }
   ],
   "source": [
    "print(StudentsPerformance['race/ethnicity'].unique)"
   ]
  },
  {
   "cell_type": "code",
   "execution_count": null,
   "id": "63b927e6-795f-4f0e-8af7-467326141516",
   "metadata": {},
   "outputs": [],
   "source": []
  }
 ],
 "metadata": {
  "kernelspec": {
   "display_name": "Python 3",
   "language": "python",
   "name": "python3"
  },
  "language_info": {
   "codemirror_mode": {
    "name": "ipython",
    "version": 3
   },
   "file_extension": ".py",
   "mimetype": "text/x-python",
   "name": "python",
   "nbconvert_exporter": "python",
   "pygments_lexer": "ipython3",
   "version": "3.8.8"
  }
 },
 "nbformat": 4,
 "nbformat_minor": 5
}
