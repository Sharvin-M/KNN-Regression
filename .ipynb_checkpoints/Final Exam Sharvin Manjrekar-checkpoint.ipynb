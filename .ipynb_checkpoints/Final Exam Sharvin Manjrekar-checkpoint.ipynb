{
 "cells": [
  {
   "cell_type": "code",
   "execution_count": 9,
   "id": "1a68843f-5fe8-41bb-9100-fbcfd5ef35a3",
   "metadata": {},
   "outputs": [],
   "source": [
    "import pandas as pd \n",
    "import matplotlib as mpl\n",
    "import matplotlib.pyplot as plt\n",
    "import seaborn as sns\n",
    "import pylab as pl\n",
    "import numpy as np\n",
    "%matplotlib inline\n",
    "\n",
    "# The Dataset shows the score of students on an exam broken down into 3 sections, as well additional information on those students \n",
    "# The Objective is to understand what additonanl factor has the greatest impact on the scores of students in each of the 3 sections\n",
    "\n",
    "SP_df = pd.read_csv(r\"/Users/shaileshmanjrekar/Downloads/StudentsPerformance.csv\") # import dataset \n",
    "\n",
    "# regression is the process of prdeciting continous values. This can be used to achieve our objective by predicting the scores of the same students using different factors and comparing those predictions \n",
    "# for example, comparing the prediction of a students score based on their parental level of education vs their test preparation \n",
    "# for this comparison we will utilize multiple linear regression for best results \n",
    "\n",
    "RPT = SP_df[['race/ethnicity', 'parental level of education', 'test preparation course', 'math score']]\n",
    "\n",
    "msk = np.random.rand(len(SP_df)) < 0.7 # use 70% of data as training for the model and 30% for testing because it is a smaller dataset \n",
    "train = RPT[msk]\n",
    "test = RPT[~msk]\n"
   ]
  },
  {
   "cell_type": "markdown",
   "id": "52cd55df-dc35-480f-97ed-321efc728c18",
   "metadata": {},
   "source": [
    "from sklearn import linear_model\n",
    "regr = linear_model.LinearRegression()\n",
    "train_x = np.asanyarray(train[['math score']])\n",
    "train_y = np.asanyarray(train[[pd.get'parental level of education']])\n",
    "regr.fit (train_x, train_y)\n",
    "# The coefficients\n",
    "print ('Coefficients: ', regr.coef_)\n",
    "print ('Intercept: ',regr.intercept_)"
   ]
  },
  {
   "cell_type": "code",
   "execution_count": null,
   "id": "e3a16bf3-ad96-4924-9480-c7b6c6dc6eb1",
   "metadata": {},
   "outputs": [],
   "source": []
  }
 ],
 "metadata": {
  "kernelspec": {
   "display_name": "Python 3",
   "language": "python",
   "name": "python3"
  },
  "language_info": {
   "codemirror_mode": {
    "name": "ipython",
    "version": 3
   },
   "file_extension": ".py",
   "mimetype": "text/x-python",
   "name": "python",
   "nbconvert_exporter": "python",
   "pygments_lexer": "ipython3",
   "version": "3.8.8"
  }
 },
 "nbformat": 4,
 "nbformat_minor": 5
}
