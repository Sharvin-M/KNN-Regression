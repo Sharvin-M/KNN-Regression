{
 "cells": [
  {
   "cell_type": "code",
   "execution_count": 58,
   "id": "064d37c9-a799-4850-a4ce-b6cc10c56c7a",
   "metadata": {},
   "outputs": [],
   "source": [
    "import pandas as pd \n",
    "import matplotlib as mpl\n",
    "import matplotlib.pyplot as plt\n",
    "import seaborn as sns\n",
    "import pylab as pl\n",
    "import numpy as np\n",
    "%matplotlib inline\n",
    "import random\n",
    "from sklearn import linear_model\n",
    "from sklearn import preprocessing\n",
    "from sklearn.model_selection import train_test_split\n",
    "from sklearn.neighbors import KNeighborsClassifier\n",
    "from sklearn.cluster import KMeans \n",
    "from sklearn.datasets.samples_generator import make_blobs \n",
    "from sklearn import metrics\n",
    "from sklearn.linear_model import LinearRegression"
   ]
  },
  {
   "cell_type": "code",
   "execution_count": 7,
   "id": "dfd888a1-b7bb-4ae9-91ba-56529642779f",
   "metadata": {},
   "outputs": [],
   "source": [
    "SP_df = pd.read_csv(r\"/Users/shaileshmanjrekar/Downloads/StudentsPerformance.csv\") # import dataset "
   ]
  },
  {
   "cell_type": "code",
   "execution_count": 8,
   "id": "34efe076-ef76-4124-a0e5-ebd59fc4501c",
   "metadata": {},
   "outputs": [
    {
     "name": "stdout",
     "output_type": "stream",
     "text": [
      "   gender race/ethnicity parental level of education         lunch  \\\n",
      "0  female        group B           bachelor's degree      standard   \n",
      "1  female        group C                some college      standard   \n",
      "2  female        group B             master's degree      standard   \n",
      "3    male        group A          associate's degree  free/reduced   \n",
      "4    male        group C                some college      standard   \n",
      "5  female        group B          associate's degree      standard   \n",
      "6  female        group B                some college      standard   \n",
      "7    male        group B                some college  free/reduced   \n",
      "8    male        group D                 high school  free/reduced   \n",
      "9  female        group B                 high school  free/reduced   \n",
      "\n",
      "  test preparation course  math score  reading score  writing score  \n",
      "0                    none          72             72             74  \n",
      "1               completed          69             90             88  \n",
      "2                    none          90             95             93  \n",
      "3                    none          47             57             44  \n",
      "4                    none          76             78             75  \n",
      "5                    none          71             83             78  \n",
      "6               completed          88             95             92  \n",
      "7                    none          40             43             39  \n",
      "8               completed          64             64             67  \n",
      "9                    none          38             60             50  \n",
      "gender                         object\n",
      "race/ethnicity                 object\n",
      "parental level of education    object\n",
      "lunch                          object\n",
      "test preparation course        object\n",
      "math score                      int64\n",
      "reading score                   int64\n",
      "writing score                   int64\n",
      "dtype: object\n",
      "       math score  reading score  writing score\n",
      "count  1000.00000    1000.000000    1000.000000\n",
      "mean     66.08900      69.169000      68.054000\n",
      "std      15.16308      14.600192      15.195657\n",
      "min       0.00000      17.000000      10.000000\n",
      "25%      57.00000      59.000000      57.750000\n",
      "50%      66.00000      70.000000      69.000000\n",
      "75%      77.00000      79.000000      79.000000\n",
      "max     100.00000     100.000000     100.000000\n"
     ]
    }
   ],
   "source": [
    "print(SP_df.head(10)) \n",
    "print(SP_df.dtypes) # descriptive summary\n",
    "print(SP_df.describe()) # numerical summary"
   ]
  },
  {
   "cell_type": "code",
   "execution_count": 26,
   "id": "f9a4eab0-6b39-4b66-b47e-029c6207d67d",
   "metadata": {},
   "outputs": [
    {
     "name": "stdout",
     "output_type": "stream",
     "text": [
      "  parental level of education  writing score  reading score  math score\n",
      "0          associate's degree      69.896396      70.927928   67.882883\n",
      "1           bachelor's degree      73.381356      73.000000   69.389831\n",
      "2                 high school      62.448980      64.704082   62.137755\n",
      "3             master's degree      75.677966      75.372881   69.745763\n",
      "4                some college      68.840708      69.460177   67.128319\n",
      "5            some high school      64.888268      66.938547   63.497207\n",
      "  race/ethnicity  writing score  reading score  math score\n",
      "0        group A      62.674157      64.674157   61.629213\n",
      "1        group B      65.600000      67.352632   63.452632\n",
      "2        group C      67.827586      69.103448   64.463950\n",
      "3        group D      70.145038      70.030534   67.362595\n",
      "4        group E      71.407143      73.028571   73.821429\n",
      "   gender  writing score  reading score  math score\n",
      "0  female      72.467181      72.608108   63.633205\n",
      "1    male      63.311203      65.473029   68.728216\n",
      "  test preparation course  writing score  reading score  math score\n",
      "0               completed      74.418994      73.893855   69.695531\n",
      "1                    none      64.504673      66.534268   64.077882\n",
      "  race/ethnicity  writing score  reading score  math score\n",
      "0        group A      62.674157      64.674157   61.629213\n",
      "1        group B      65.600000      67.352632   63.452632\n",
      "2        group C      67.827586      69.103448   64.463950\n",
      "3        group D      70.145038      70.030534   67.362595\n",
      "4        group E      71.407143      73.028571   73.821429\n"
     ]
    },
    {
     "data": {
      "text/plain": [
       "<AxesSubplot:>"
      ]
     },
     "execution_count": 26,
     "metadata": {},
     "output_type": "execute_result"
    },
    {
     "data": {
      "image/png": "[encoded data removed]",
      "text/plain": [
       "<Figure size 432x288 with 1 Axes>"
      ]
     },
     "metadata": {
      "needs_background": "light"
     },
     "output_type": "display_data"
    },
    {
     "data": {
      "image/png": "[encoded data removed]",
      "text/plain": [
       "<Figure size 432x288 with 1 Axes>"
      ]
     },
     "metadata": {
      "needs_background": "light"
     },
     "output_type": "display_data"
    },
    {
     "data": {
      "image/png": "[encoded data removed]",
      "text/plain": [
       "<Figure size 432x288 with 1 Axes>"
      ]
     },
     "metadata": {
      "needs_background": "light"
     },
     "output_type": "display_data"
    },
    {
     "data": {
      "image/png": "[encoded data removed]",
      "text/plain": [
       "<Figure size 432x288 with 1 Axes>"
      ]
     },
     "metadata": {
      "needs_background": "light"
     },
     "output_type": "display_data"
    },
    {
     "data": {
      "image/png": "[encoded data removed]",
      "text/plain": [
       "<Figure size 432x288 with 1 Axes>"
      ]
     },
     "metadata": {
      "needs_background": "light"
     },
     "output_type": "display_data"
    },
    {
     "data": {
      "image/png": "[encoded data removed]",
      "text/plain": [
       "<Figure size 432x288 with 1 Axes>"
      ]
     },
     "metadata": {
      "needs_background": "light"
     },
     "output_type": "display_data"
    },
    {
     "data": {
      "image/png": "[encoded data removed]",
      "text/plain": [
       "<Figure size 432x288 with 1 Axes>"
      ]
     },
     "metadata": {
      "needs_background": "light"
     },
     "output_type": "display_data"
    },
    {
     "data": {
      "image/png": "[encoded data removed]",
      "text/plain": [
       "<Figure size 432x288 with 1 Axes>"
      ]
     },
     "metadata": {
      "needs_background": "light"
     },
     "output_type": "display_data"
    },
    {
     "data": {
      "image/png": "[encoded data removed]",
      "text/plain": [
       "<Figure size 432x288 with 1 Axes>"
      ]
     },
     "metadata": {
      "needs_background": "light"
     },
     "output_type": "display_data"
    },
    {
     "data": {
      "image/png": "[encoded data removed]",
      "text/plain": [
       "<Figure size 432x288 with 1 Axes>"
      ]
     },
     "metadata": {
      "needs_background": "light"
     },
     "output_type": "display_data"
    }
   ],
   "source": [
    "# graphical summaries of the distribution of scores for each group outlined in the research framework \n",
    "# analysis is included in Final Project PDF report\n",
    "\n",
    "# Parental Level of Education\n",
    "SP_df['parental level of education'].value_counts() \n",
    "SP_test1 = SP_df[['writing score', 'reading score','math score', 'parental level of education']]\n",
    "SP_grp1 = SP_test1.groupby(['parental level of education'], as_index=False).mean()\n",
    "print(SP_grp1)\n",
    "SP_grp1.plot(kind='hist')\n",
    "SP_grp1.plot(kind='box')\n",
    "\n",
    "# Lunch\n",
    "SP_df['lunch'].value_counts() \n",
    "SP_test2 = SP_df[['writing score', 'reading score','math score', 'lunch']]\n",
    "SP_grp2 = SP_test2.groupby(['lunch'], as_index=False).mean()\n",
    "print(SP_grp)\n",
    "SP_grp2.plot(kind='hist')\n",
    "SP_grp2.plot(kind='box')\n",
    "\n",
    "# Gender \n",
    "SP_df['gender'].value_counts() \n",
    "SP_test3 = SP_df[['writing score', 'reading score','math score', 'gender']]\n",
    "SP_grp3 = SP_test3.groupby(['gender'], as_index=False).mean()\n",
    "print(SP_grp3)                                    \n",
    "SP_grp3.plot(kind='hist')\n",
    "SP_grp3.plot(kind='box')\n",
    "\n",
    "# Test Preparation Course \n",
    "SP_df['test preparation course'].value_counts() \n",
    "SP_test4 = SP_df[['writing score', 'reading score','math score', 'test preparation course']]\n",
    "SP_grp4 = SP_test4.groupby(['test preparation course'], as_index=False).mean()\n",
    "print(SP_grp4)\n",
    "SP_grp4.plot(kind='hist')\n",
    "SP_grp4.plot(kind='box')\n",
    "\n",
    "# Race/Ethnicity \n",
    "SP_df['race/ethnicity'].value_counts() \n",
    "SP_test5 = SP_df[['writing score', 'reading score','math score', 'race/ethnicity']]\n",
    "SP_grp5= SP_test5.groupby(['race/ethnicity'], as_index=False).mean()\n",
    "print(SP_grp5)\n",
    "SP_grp5.plot(kind='hist')\n",
    "SP_grp5.plot(kind='box')\n",
    "# correlation is visible through comparison of histograms \n"
   ]
  },
  {
   "cell_type": "code",
   "execution_count": 82,
   "id": "3d1a60cb-e03d-4d0c-b8f4-9139289501da",
   "metadata": {},
   "outputs": [
    {
     "data": {
      "text/plain": [
       "array([73.38135593, 68.84070796, 75.6779661 , 69.8963964 , 68.84070796,\n",
       "       69.8963964 , 68.84070796, 68.84070796, 62.44897959, 62.44897959,\n",
       "       69.8963964 , 69.8963964 , 62.44897959, 68.84070796, 75.6779661 ,\n",
       "       64.88826816, 62.44897959, 64.88826816, 75.6779661 , 69.8963964 ,\n",
       "       62.44897959, 68.84070796, 68.84070796, 64.88826816, 73.38135593,\n",
       "       75.6779661 , 68.84070796, 73.38135593, 62.44897959, 75.6779661 ,\n",
       "       68.84070796, 68.84070796, 75.6779661 , 68.84070796, 68.84070796,\n",
       "       69.8963964 , 69.8963964 , 64.88826816, 69.8963964 , 69.8963964 ,\n",
       "       69.8963964 , 69.8963964 , 69.8963964 , 68.84070796, 69.8963964 ,\n",
       "       69.8963964 , 69.8963964 , 62.44897959, 69.8963964 , 62.44897959,\n",
       "       68.84070796, 69.8963964 , 68.84070796, 62.44897959, 64.88826816,\n",
       "       62.44897959, 69.8963964 , 69.8963964 , 68.84070796, 64.88826816,\n",
       "       73.38135593, 64.88826816, 69.8963964 , 69.8963964 , 64.88826816,\n",
       "       64.88826816, 64.88826816, 68.84070796, 69.8963964 , 69.8963964 ,\n",
       "       68.84070796, 68.84070796, 69.8963964 , 64.88826816, 64.88826816,\n",
       "       69.8963964 , 64.88826816, 73.38135593, 64.88826816, 75.6779661 ,\n",
       "       69.8963964 , 62.44897959, 68.84070796, 69.8963964 , 62.44897959,\n",
       "       68.84070796, 68.84070796, 69.8963964 , 68.84070796, 64.88826816,\n",
       "       73.38135593, 62.44897959, 62.44897959, 69.8963964 , 68.84070796,\n",
       "       69.8963964 , 64.88826816, 68.84070796, 68.84070796, 73.38135593,\n",
       "       68.84070796, 73.38135593, 69.8963964 , 62.44897959, 68.84070796,\n",
       "       68.84070796, 75.6779661 , 69.8963964 , 69.8963964 , 64.88826816,\n",
       "       69.8963964 , 62.44897959, 69.8963964 , 68.84070796, 73.38135593,\n",
       "       62.44897959, 73.38135593, 73.38135593, 64.88826816, 68.84070796,\n",
       "       73.38135593, 69.8963964 , 68.84070796, 62.44897959, 68.84070796,\n",
       "       62.44897959, 64.88826816, 68.84070796, 75.6779661 , 73.38135593,\n",
       "       75.6779661 , 64.88826816, 68.84070796, 68.84070796, 73.38135593,\n",
       "       73.38135593, 64.88826816, 62.44897959, 69.8963964 , 68.84070796,\n",
       "       64.88826816, 68.84070796, 68.84070796, 62.44897959, 68.84070796,\n",
       "       68.84070796, 64.88826816, 69.8963964 , 73.38135593, 69.8963964 ,\n",
       "       64.88826816, 73.38135593, 69.8963964 , 73.38135593, 64.88826816,\n",
       "       68.84070796, 62.44897959, 68.84070796, 69.8963964 , 69.8963964 ,\n",
       "       69.8963964 , 68.84070796, 75.6779661 , 62.44897959, 75.6779661 ,\n",
       "       73.38135593, 62.44897959, 75.6779661 , 62.44897959, 68.84070796,\n",
       "       62.44897959, 64.88826816, 68.84070796, 69.8963964 , 73.38135593,\n",
       "       75.6779661 , 62.44897959, 69.8963964 , 75.6779661 , 64.88826816,\n",
       "       75.6779661 , 68.84070796, 62.44897959, 69.8963964 , 64.88826816,\n",
       "       69.8963964 , 62.44897959, 64.88826816, 64.88826816, 73.38135593,\n",
       "       69.8963964 , 68.84070796, 64.88826816, 68.84070796, 75.6779661 ,\n",
       "       69.8963964 , 64.88826816, 62.44897959, 68.84070796, 73.38135593,\n",
       "       69.8963964 , 68.84070796, 69.8963964 , 69.8963964 , 68.84070796,\n",
       "       64.88826816, 73.38135593, 62.44897959, 68.84070796, 68.84070796,\n",
       "       64.88826816, 68.84070796, 62.44897959, 69.8963964 , 62.44897959,\n",
       "       64.88826816, 69.8963964 , 62.44897959, 62.44897959, 64.88826816,\n",
       "       62.44897959, 69.8963964 , 64.88826816, 64.88826816, 69.8963964 ,\n",
       "       75.6779661 , 68.84070796, 62.44897959, 64.88826816, 68.84070796,\n",
       "       68.84070796, 69.8963964 , 73.38135593, 64.88826816, 73.38135593,\n",
       "       69.8963964 , 73.38135593, 64.88826816, 68.84070796, 69.8963964 ,\n",
       "       62.44897959, 73.38135593, 62.44897959, 68.84070796, 64.88826816,\n",
       "       69.8963964 , 69.8963964 , 62.44897959, 62.44897959, 62.44897959,\n",
       "       64.88826816, 68.84070796, 64.88826816, 75.6779661 , 62.44897959,\n",
       "       68.84070796, 69.8963964 , 69.8963964 , 68.84070796, 75.6779661 ,\n",
       "       64.88826816, 68.84070796, 64.88826816, 62.44897959, 62.44897959,\n",
       "       64.88826816, 73.38135593, 62.44897959, 69.8963964 , 68.84070796,\n",
       "       73.38135593, 68.84070796, 69.8963964 , 68.84070796, 68.84070796,\n",
       "       73.38135593, 64.88826816, 62.44897959, 64.88826816, 73.38135593,\n",
       "       62.44897959, 62.44897959, 73.38135593, 68.84070796, 64.88826816,\n",
       "       69.8963964 , 69.8963964 , 64.88826816, 73.38135593, 64.88826816,\n",
       "       69.8963964 , 64.88826816, 64.88826816, 73.38135593, 62.44897959,\n",
       "       69.8963964 , 64.88826816, 69.8963964 , 62.44897959, 69.8963964 ,\n",
       "       68.84070796, 64.88826816, 69.8963964 , 69.8963964 , 69.8963964 ,\n",
       "       68.84070796, 68.84070796, 64.88826816, 69.8963964 , 62.44897959,\n",
       "       69.8963964 , 73.38135593, 73.38135593, 69.8963964 , 73.38135593,\n",
       "       62.44897959, 75.6779661 , 69.8963964 , 73.38135593, 69.8963964 ,\n",
       "       62.44897959, 62.44897959, 68.84070796, 64.88826816, 62.44897959,\n",
       "       68.84070796, 68.84070796, 68.84070796, 69.8963964 , 64.88826816,\n",
       "       62.44897959, 69.8963964 , 69.8963964 , 69.8963964 , 73.38135593,\n",
       "       68.84070796, 64.88826816, 69.8963964 , 64.88826816, 64.88826816,\n",
       "       62.44897959, 62.44897959, 62.44897959, 69.8963964 , 68.84070796,\n",
       "       62.44897959, 68.84070796, 73.38135593, 62.44897959, 69.8963964 ,\n",
       "       73.38135593, 68.84070796, 68.84070796, 69.8963964 , 68.84070796,\n",
       "       73.38135593, 69.8963964 , 68.84070796, 68.84070796, 68.84070796,\n",
       "       62.44897959, 64.88826816, 68.84070796, 64.88826816, 68.84070796,\n",
       "       73.38135593, 62.44897959, 73.38135593, 64.88826816, 64.88826816,\n",
       "       68.84070796, 68.84070796, 64.88826816, 68.84070796, 73.38135593,\n",
       "       69.8963964 , 64.88826816, 75.6779661 , 64.88826816, 73.38135593,\n",
       "       69.8963964 , 69.8963964 , 75.6779661 , 64.88826816, 64.88826816,\n",
       "       68.84070796, 73.38135593, 69.8963964 , 62.44897959, 75.6779661 ,\n",
       "       64.88826816, 68.84070796, 68.84070796, 69.8963964 , 64.88826816,\n",
       "       62.44897959, 62.44897959, 69.8963964 , 64.88826816, 64.88826816,\n",
       "       64.88826816, 68.84070796, 68.84070796, 62.44897959, 62.44897959,\n",
       "       64.88826816, 69.8963964 , 69.8963964 , 62.44897959, 69.8963964 ,\n",
       "       75.6779661 , 68.84070796, 69.8963964 , 64.88826816, 73.38135593,\n",
       "       62.44897959, 73.38135593, 69.8963964 , 68.84070796, 62.44897959,\n",
       "       69.8963964 , 62.44897959, 75.6779661 , 64.88826816, 68.84070796,\n",
       "       68.84070796, 73.38135593, 64.88826816, 64.88826816, 64.88826816,\n",
       "       69.8963964 , 62.44897959, 62.44897959, 64.88826816, 64.88826816,\n",
       "       68.84070796, 69.8963964 , 69.8963964 , 62.44897959, 64.88826816,\n",
       "       68.84070796, 62.44897959, 64.88826816, 69.8963964 , 64.88826816,\n",
       "       64.88826816, 68.84070796, 62.44897959, 62.44897959, 69.8963964 ,\n",
       "       68.84070796, 68.84070796, 69.8963964 , 68.84070796, 69.8963964 ,\n",
       "       73.38135593, 73.38135593, 69.8963964 , 73.38135593, 62.44897959,\n",
       "       73.38135593, 68.84070796, 68.84070796, 68.84070796, 73.38135593,\n",
       "       68.84070796, 69.8963964 , 62.44897959, 62.44897959, 68.84070796,\n",
       "       69.8963964 , 62.44897959, 69.8963964 , 64.88826816, 69.8963964 ,\n",
       "       73.38135593, 73.38135593, 69.8963964 , 75.6779661 , 69.8963964 ,\n",
       "       62.44897959, 69.8963964 , 68.84070796, 62.44897959, 69.8963964 ,\n",
       "       62.44897959, 68.84070796, 69.8963964 , 64.88826816, 69.8963964 ,\n",
       "       69.8963964 , 69.8963964 , 68.84070796, 73.38135593, 62.44897959,\n",
       "       62.44897959, 68.84070796, 68.84070796, 64.88826816, 68.84070796,\n",
       "       75.6779661 , 69.8963964 , 68.84070796, 69.8963964 , 75.6779661 ,\n",
       "       64.88826816, 62.44897959, 73.38135593, 75.6779661 , 73.38135593,\n",
       "       68.84070796, 64.88826816, 64.88826816, 64.88826816, 75.6779661 ,\n",
       "       64.88826816, 68.84070796, 68.84070796, 64.88826816, 62.44897959,\n",
       "       68.84070796, 69.8963964 , 73.38135593, 75.6779661 , 62.44897959,\n",
       "       68.84070796, 64.88826816, 62.44897959, 73.38135593, 69.8963964 ,\n",
       "       69.8963964 , 64.88826816, 69.8963964 , 69.8963964 , 62.44897959,\n",
       "       73.38135593, 69.8963964 , 62.44897959, 73.38135593, 69.8963964 ,\n",
       "       62.44897959, 69.8963964 , 69.8963964 , 69.8963964 , 75.6779661 ,\n",
       "       64.88826816, 64.88826816, 62.44897959, 62.44897959, 75.6779661 ,\n",
       "       64.88826816, 73.38135593, 69.8963964 , 68.84070796, 69.8963964 ,\n",
       "       68.84070796, 69.8963964 , 75.6779661 , 69.8963964 , 64.88826816,\n",
       "       68.84070796, 68.84070796, 73.38135593, 68.84070796, 73.38135593,\n",
       "       69.8963964 , 73.38135593, 75.6779661 , 62.44897959, 73.38135593,\n",
       "       68.84070796, 73.38135593, 68.84070796, 62.44897959, 62.44897959,\n",
       "       69.8963964 , 68.84070796, 62.44897959, 68.84070796, 75.6779661 ,\n",
       "       64.88826816, 64.88826816, 73.38135593, 69.8963964 , 68.84070796,\n",
       "       69.8963964 , 62.44897959, 73.38135593, 68.84070796, 64.88826816,\n",
       "       68.84070796, 64.88826816, 73.38135593, 62.44897959, 73.38135593,\n",
       "       73.38135593, 62.44897959, 64.88826816, 62.44897959, 64.88826816,\n",
       "       75.6779661 , 62.44897959, 68.84070796, 62.44897959, 75.6779661 ,\n",
       "       64.88826816, 69.8963964 , 75.6779661 , 68.84070796, 69.8963964 ,\n",
       "       68.84070796, 68.84070796, 73.38135593, 69.8963964 , 69.8963964 ,\n",
       "       62.44897959, 73.38135593, 73.38135593, 75.6779661 , 69.8963964 ,\n",
       "       62.44897959, 73.38135593, 62.44897959, 68.84070796, 73.38135593,\n",
       "       68.84070796, 69.8963964 , 69.8963964 , 68.84070796, 64.88826816,\n",
       "       68.84070796, 62.44897959, 73.38135593, 62.44897959, 64.88826816,\n",
       "       62.44897959, 62.44897959, 64.88826816, 68.84070796, 69.8963964 ,\n",
       "       62.44897959, 69.8963964 , 64.88826816, 62.44897959, 62.44897959,\n",
       "       73.38135593, 69.8963964 , 62.44897959, 62.44897959, 68.84070796,\n",
       "       64.88826816, 62.44897959, 68.84070796, 69.8963964 , 64.88826816,\n",
       "       68.84070796, 69.8963964 , 64.88826816, 69.8963964 , 69.8963964 ,\n",
       "       68.84070796, 64.88826816, 68.84070796, 62.44897959, 69.8963964 ,\n",
       "       64.88826816, 68.84070796, 73.38135593, 68.84070796, 69.8963964 ,\n",
       "       62.44897959, 69.8963964 , 68.84070796, 69.8963964 , 62.44897959,\n",
       "       68.84070796, 68.84070796, 64.88826816, 69.8963964 , 68.84070796,\n",
       "       62.44897959, 62.44897959, 62.44897959, 64.88826816, 68.84070796,\n",
       "       75.6779661 , 68.84070796, 69.8963964 , 62.44897959, 68.84070796,\n",
       "       69.8963964 , 69.8963964 , 73.38135593, 69.8963964 , 64.88826816,\n",
       "       68.84070796, 69.8963964 , 73.38135593, 69.8963964 , 62.44897959,\n",
       "       73.38135593, 64.88826816, 73.38135593, 68.84070796, 64.88826816,\n",
       "       73.38135593, 62.44897959, 68.84070796, 62.44897959, 69.8963964 ,\n",
       "       68.84070796, 64.88826816, 68.84070796, 75.6779661 , 64.88826816,\n",
       "       69.8963964 , 69.8963964 , 69.8963964 , 62.44897959, 69.8963964 ,\n",
       "       68.84070796, 64.88826816, 64.88826816, 62.44897959, 68.84070796,\n",
       "       68.84070796, 69.8963964 , 64.88826816, 62.44897959, 68.84070796,\n",
       "       69.8963964 , 64.88826816, 68.84070796, 64.88826816, 68.84070796,\n",
       "       75.6779661 , 69.8963964 , 68.84070796, 69.8963964 , 62.44897959,\n",
       "       73.38135593, 69.8963964 , 62.44897959, 69.8963964 , 68.84070796,\n",
       "       69.8963964 , 62.44897959, 68.84070796, 73.38135593, 68.84070796,\n",
       "       64.88826816, 68.84070796, 75.6779661 , 64.88826816, 69.8963964 ,\n",
       "       69.8963964 , 68.84070796, 73.38135593, 68.84070796, 68.84070796,\n",
       "       62.44897959, 64.88826816, 64.88826816, 62.44897959, 68.84070796,\n",
       "       62.44897959, 62.44897959, 62.44897959, 64.88826816, 68.84070796,\n",
       "       62.44897959, 73.38135593, 64.88826816, 73.38135593, 68.84070796,\n",
       "       64.88826816, 62.44897959, 68.84070796, 68.84070796, 69.8963964 ,\n",
       "       69.8963964 , 75.6779661 , 62.44897959, 69.8963964 , 73.38135593,\n",
       "       64.88826816, 64.88826816, 68.84070796, 69.8963964 , 75.6779661 ,\n",
       "       62.44897959, 68.84070796, 62.44897959, 64.88826816, 62.44897959,\n",
       "       69.8963964 , 62.44897959, 69.8963964 , 68.84070796, 69.8963964 ,\n",
       "       64.88826816, 64.88826816, 69.8963964 , 68.84070796, 68.84070796,\n",
       "       68.84070796, 68.84070796, 62.44897959, 62.44897959, 73.38135593,\n",
       "       64.88826816, 62.44897959, 75.6779661 , 64.88826816, 62.44897959,\n",
       "       64.88826816, 73.38135593, 73.38135593, 62.44897959, 64.88826816,\n",
       "       64.88826816, 73.38135593, 68.84070796, 62.44897959, 64.88826816,\n",
       "       62.44897959, 69.8963964 , 64.88826816, 64.88826816, 64.88826816,\n",
       "       68.84070796, 73.38135593, 73.38135593, 62.44897959, 68.84070796,\n",
       "       62.44897959, 62.44897959, 62.44897959, 69.8963964 , 69.8963964 ,\n",
       "       62.44897959, 64.88826816, 62.44897959, 68.84070796, 64.88826816,\n",
       "       75.6779661 , 75.6779661 , 62.44897959, 62.44897959, 69.8963964 ,\n",
       "       75.6779661 , 62.44897959, 68.84070796, 64.88826816, 64.88826816,\n",
       "       73.38135593, 68.84070796, 73.38135593, 62.44897959, 69.8963964 ,\n",
       "       69.8963964 , 75.6779661 , 73.38135593, 68.84070796, 69.8963964 ,\n",
       "       68.84070796, 62.44897959, 69.8963964 , 69.8963964 , 69.8963964 ,\n",
       "       62.44897959, 68.84070796, 69.8963964 , 69.8963964 , 73.38135593,\n",
       "       68.84070796, 68.84070796, 64.88826816, 64.88826816, 69.8963964 ,\n",
       "       73.38135593, 73.38135593, 62.44897959, 73.38135593, 69.8963964 ,\n",
       "       69.8963964 , 69.8963964 , 62.44897959, 68.84070796, 62.44897959,\n",
       "       68.84070796, 69.8963964 , 75.6779661 , 64.88826816, 69.8963964 ,\n",
       "       64.88826816, 62.44897959, 64.88826816, 69.8963964 , 64.88826816,\n",
       "       75.6779661 , 75.6779661 , 62.44897959, 73.38135593, 64.88826816,\n",
       "       68.84070796, 62.44897959, 68.84070796, 73.38135593, 73.38135593,\n",
       "       73.38135593, 68.84070796, 73.38135593, 73.38135593, 69.8963964 ,\n",
       "       68.84070796, 73.38135593, 62.44897959, 69.8963964 , 68.84070796,\n",
       "       62.44897959, 62.44897959, 62.44897959, 69.8963964 , 62.44897959,\n",
       "       64.88826816, 69.8963964 , 62.44897959, 69.8963964 , 64.88826816,\n",
       "       68.84070796, 68.84070796, 69.8963964 , 73.38135593, 69.8963964 ,\n",
       "       68.84070796, 69.8963964 , 62.44897959, 68.84070796, 64.88826816,\n",
       "       75.6779661 , 75.6779661 , 62.44897959, 64.88826816, 62.44897959,\n",
       "       69.8963964 , 62.44897959, 68.84070796, 64.88826816, 62.44897959,\n",
       "       62.44897959, 68.84070796, 64.88826816, 62.44897959, 68.84070796,\n",
       "       69.8963964 , 68.84070796, 75.6779661 , 62.44897959, 62.44897959,\n",
       "       68.84070796, 64.88826816, 69.8963964 , 64.88826816, 68.84070796,\n",
       "       68.84070796, 64.88826816, 68.84070796, 69.8963964 , 73.38135593,\n",
       "       73.38135593, 64.88826816, 62.44897959, 68.84070796, 68.84070796,\n",
       "       68.84070796, 68.84070796, 69.8963964 , 62.44897959, 69.8963964 ,\n",
       "       62.44897959, 64.88826816, 64.88826816, 68.84070796, 64.88826816,\n",
       "       62.44897959, 69.8963964 , 64.88826816, 64.88826816, 68.84070796,\n",
       "       62.44897959, 64.88826816, 69.8963964 , 73.38135593, 62.44897959,\n",
       "       75.6779661 , 62.44897959, 62.44897959, 68.84070796, 68.84070796])"
      ]
     },
     "execution_count": 82,
     "metadata": {},
     "output_type": "execute_result"
    }
   ],
   "source": [
    "# Data Science Algorithms \n",
    "\n",
    "# Simple and Multiple Regression \n",
    "\n",
    "#parental level of education and math score \n",
    "\n",
    "lm = LinearRegression()\n",
    "z = pd.get_dummies(SP_df['parental level of education'])\n",
    "lm.fit(z, SP_df['math score'])\n",
    "Yhat = lm.predict(z)\n",
    "Yhat\n",
    "#parental level of education and writing score \n",
    "lm1 = LinearRegression()\n",
    "z1 = pd.get_dummies(SP_df['parental level of education'])\n",
    "lm1.fit(z, SP_df['writing score'])\n",
    "Yhat = lm1.predict(z)\n",
    "Yhat\n",
    "# etc etc ; this process is continued for each variable for all 3 exams; I haven't included this in this files specefically because of how long the predictions \n",
    "# however, for my interpretations I will be referencing data from all the variables \n"
   ]
  },
  {
   "cell_type": "code",
   "execution_count": 138,
   "id": "cffc30ff-3e7c-45f6-9e3b-3ec692128008",
   "metadata": {},
   "outputs": [
    {
     "name": "stdout",
     "output_type": "stream",
     "text": [
      "Train set: (800, 6) (800,)\n",
      "Test set: (200, 6) (200,)\n",
      "[61 58 65 65 58 65 65 65 61 58 62 62 65 58 65]\n",
      "Train set Accuracy:  0.05125\n",
      "Test set Accuracy:  0.02\n"
     ]
    }
   ],
   "source": [
    "# Classification Algorithms \n",
    "\n",
    "# KNN \n",
    "# Here I use parental level of education in order to predict a students score on the math section of the exam \n",
    "# I repeated this process for the other variables and all 3 parts of the exam however I did not include this in the final part of my code \n",
    "# because of how long the output is, I will still be refrencing the results in my presentation and report \n",
    "n=pd.get_dummies(SP_df['parental level of education'])\n",
    "j= SP_df['math score']\n",
    "n =preprocessing.StandardScaler().fit(n).transform(n.astype(float)) # standardize data\n",
    "n_train, n_test, j_train, j_test = train_test_split(n, j, test_size=0.2, random_state=1)\n",
    "print ('Train set:', n_train.shape,  j_train.shape)\n",
    "print ('Test set:', n_test.shape,  j_test.shape) # train/test split in order to improve accuracy \n",
    "k = 63\n",
    "#Train Model and Predict Values\n",
    "neigh = KNeighborsClassifier(n_neighbors = k).fit(n_train,j_train)\n",
    "neigh\n",
    "yhat = neigh.predict(n_test) \n",
    "print(yhat[0:15])\n",
    "print(\"Train set Accuracy: \", metrics.accuracy_score(j_train, neigh.predict(n_train))) # compute test and training set accuracy \n",
    "print(\"Test set Accuracy: \", metrics.accuracy_score(j_test, yhat))\n",
    "# k = 63 produced the highest test set accuracy (0.02)"
   ]
  },
  {
   "cell_type": "code",
   "execution_count": 128,
   "id": "36db8ea2-8459-408a-8fb1-f2547169ae23",
   "metadata": {},
   "outputs": [
    {
     "data": {
      "text/html": [
       "<div>\n",
       "<style scoped>\n",
       "    .dataframe tbody tr th:only-of-type {\n",
       "        vertical-align: middle;\n",
       "    }\n",
       "\n",
       "    .dataframe tbody tr th {\n",
       "        vertical-align: top;\n",
       "    }\n",
       "\n",
       "    .dataframe thead th {\n",
       "        text-align: right;\n",
       "    }\n",
       "</style>\n",
       "<table border=\"1\" class=\"dataframe\">\n",
       "  <thead>\n",
       "    <tr style=\"text-align: right;\">\n",
       "      <th></th>\n",
       "      <th>math score</th>\n",
       "      <th>reading score</th>\n",
       "      <th>writing score</th>\n",
       "    </tr>\n",
       "    <tr>\n",
       "      <th>Clus_km</th>\n",
       "      <th></th>\n",
       "      <th></th>\n",
       "      <th></th>\n",
       "    </tr>\n",
       "  </thead>\n",
       "  <tbody>\n",
       "    <tr>\n",
       "      <th>0</th>\n",
       "      <td>66.503497</td>\n",
       "      <td>69.279720</td>\n",
       "      <td>0.629371</td>\n",
       "    </tr>\n",
       "    <tr>\n",
       "      <th>1</th>\n",
       "      <td>79.231023</td>\n",
       "      <td>84.818482</td>\n",
       "      <td>0.603960</td>\n",
       "    </tr>\n",
       "    <tr>\n",
       "      <th>2</th>\n",
       "      <td>50.567164</td>\n",
       "      <td>51.298507</td>\n",
       "      <td>0.697761</td>\n",
       "    </tr>\n",
       "  </tbody>\n",
       "</table>\n",
       "</div>"
      ],
      "text/plain": [
       "         math score  reading score  writing score\n",
       "Clus_km                                          \n",
       "0         66.503497      69.279720       0.629371\n",
       "1         79.231023      84.818482       0.603960\n",
       "2         50.567164      51.298507       0.697761"
      ]
     },
     "execution_count": 128,
     "metadata": {},
     "output_type": "execute_result"
    },
    {
     "data": {
      "image/png": "[encoded data removed]",
      "text/plain": [
       "<Figure size 432x288 with 1 Axes>"
      ]
     },
     "metadata": {
      "needs_background": "light"
     },
     "output_type": "display_data"
    }
   ],
   "source": [
    "# Clustering Algorithms \n",
    "# I will be implementing the K-means clustering algorithim in order to find out the relationship between reading and writing scores \n",
    "\n",
    "SP_df.plot(kind='scatter', x = 'writing score', y='reading score') # create a scatter plot in order to find the number of clusters \n",
    "plt.title('K-means Scatter plot')\n",
    "plt.xlabel('Writing Scores')\n",
    "plt.ylabel('Reading Scores')\n",
    "# there are 3 super defined clusters in the dataset \n",
    "\n",
    "k_means = KMeans(init = \"k-means++\", n_clusters = 3, n_init = 20) # default K-means\n",
    "#model with 3 clusters because our data is mostly spread across evenly\n",
    "k_means.fit(y) # fit the K-means model to our previous dataset containg the writing scores of students\n",
    "k_means_cluster_centers = k_means.cluster_centers_\n",
    "k_means_cluster_centers\n",
    "k_means_labels = k_means.labels_\n",
    "SP_df[\"Clus_km\"] = k_means_labels\n",
    "SP_df.groupby('Clus_km').mean() # shows centroid values of clusters "
   ]
  }
 ],
 "metadata": {
  "kernelspec": {
   "display_name": "Python 3",
   "language": "python",
   "name": "python3"
  },
  "language_info": {
   "codemirror_mode": {
    "name": "ipython",
    "version": 3
   },
   "file_extension": ".py",
   "mimetype": "text/x-python",
   "name": "python",
   "nbconvert_exporter": "python",
   "pygments_lexer": "ipython3",
   "version": "3.8.8"
  }
 },
 "nbformat": 4,
 "nbformat_minor": 5
}
